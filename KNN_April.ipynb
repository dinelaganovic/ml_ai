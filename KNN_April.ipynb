{
 "cells": [
  {
   "cell_type": "code",
   "execution_count": 1,
   "id": "ae923521-ca2d-420f-84b8-dc29d5d0a780",
   "metadata": {},
   "outputs": [
    {
     "name": "stdout",
     "output_type": "stream",
     "text": [
      "Novi element pripada klasi: False\n"
     ]
    }
   ],
   "source": [
    "#Da bismo primenili KNN (k-najbližih suseda) algoritam na vašem skupu podataka, možemo koristiti Python i \n",
    "#implementirati funkcije koje računaju euklidsku udaljenost i pronalaze k najbližih suseda.\n",
    "#Zadatak\n",
    "#Demostrirati KNN algoritam i objasniti jedno moguće rješenje za odabir optimalne vrednosti za K. \n",
    "#Primeniti KNN klasifikaciju na sledećem skupu podataka i izvršiti predikciju za P1=4 i P2=9 sa K=3 koristeći euklidsku distancu.\n",
    "\n",
    "from math import sqrt\n",
    "\n",
    "# Skup podataka\n",
    "dataset = [\n",
    "    [7, 2, False],\n",
    "    [5, 4, False],\n",
    "    [3, 2, True],\n",
    "    [8, 4, True],\n",
    "    [8, 3, True],\n",
    "    [1, 3, False]\n",
    "]\n",
    "\n",
    "# Novi podaci za predikciju\n",
    "new_data = [4, 9]\n",
    "\n",
    "# Funkcija za računanje euklidske udaljenosti\n",
    "def euclidean_distance(first, second):\n",
    "    return sqrt(((first[0] - second[0]) ** 2) + ((first[1] - second[1]) ** 2))\n",
    "\n",
    "# Funkcija za pronalaženje k najbližih suseda\n",
    "def get_neighbors(dataset, new_data, k):\n",
    "    distances = []\n",
    "    for instance in dataset:\n",
    "        dist = euclidean_distance(new_data, instance[:-1])  # Uzimamo sve osim poslednje kolone (klase)\n",
    "        distances.append((instance, dist))\n",
    "    distances.sort(key=lambda x: x[1])  # Sortiranje po udaljenosti\n",
    "    neighbors = [item[0] for item in distances[:k]]  # Uzimanje prvih k suseda\n",
    "    return neighbors\n",
    "\n",
    "# Funkcija za predikciju klase na osnovu k najbližih suseda\n",
    "def predict_classification(dataset, new_data, k):\n",
    "    neighbors = get_neighbors(dataset, new_data, k)\n",
    "    classes = [neighbor[-1] for neighbor in neighbors]  # Poslednja kolona je klasa\n",
    "    prediction = max(set(classes), key=classes.count)\n",
    "    return prediction\n",
    "\n",
    "# Primena KNN na novim podacima\n",
    "k_value = 3\n",
    "prediction = predict_classification(dataset, new_data, k_value)\n",
    "\n",
    "# Prikaz rezultata\n",
    "print(f'Novi element pripada klasi: {prediction}')\n"
   ]
  },
  {
   "cell_type": "code",
   "execution_count": null,
   "id": "42df9b63-be16-45c5-93d6-e38bde1672ac",
   "metadata": {},
   "outputs": [],
   "source": []
  }
 ],
 "metadata": {
  "kernelspec": {
   "display_name": "Python 3 (ipykernel)",
   "language": "python",
   "name": "python3"
  },
  "language_info": {
   "codemirror_mode": {
    "name": "ipython",
    "version": 3
   },
   "file_extension": ".py",
   "mimetype": "text/x-python",
   "name": "python",
   "nbconvert_exporter": "python",
   "pygments_lexer": "ipython3",
   "version": "3.11.2"
  }
 },
 "nbformat": 4,
 "nbformat_minor": 5
}
