{
 "cells": [
  {
   "cell_type": "code",
   "execution_count": null,
   "id": "465856ad-b00f-4b97-ab38-f432886dfbe1",
   "metadata": {},
   "outputs": [],
   "source": [
    "import pandas as pd\n",
    "import matplotlib.pyplot as plt\n",
    "import numpy as np\n",
    "from math import sqrt\n",
    "\n",
    "data = pd.read_csv('/kaggle/input/vinocsv/vino.csv')\n",
    "# Prikaz prvih nekoliko redova skupa podataka\n",
    "nova_kolona = np.tile([1, 2], len(data)//2 + 1)[:len(data)]  # Prilagođena dužina\n",
    "# Ubacite 'Nova kolona' na treću poziciju \n",
    "data.insert(2, 'Nova kolona', nova_kolona)\n",
    "\n",
    "# Prikaz prvih nekoliko redova sa novom kolonom\n",
    "print(data.head())\n",
    "\n",
    "# Snimanje DataFrame-a sa novom kolonom u CSV fajl\n",
    "# data.to_csv('/kaggle/input/vinocsv/vino.csv', index=False) u isti fajl ne moze jer su fajlovi na kaggle samo za citanje\n",
    "\n",
    "data.to_csv('/kaggle/working/vino_sa_novom_kolonom.csv', index=False)\n",
    "\n",
    "\n",
    "\n"
   ]
  }
 ],
 "metadata": {
  "kernelspec": {
   "display_name": "Python 3 (ipykernel)",
   "language": "python",
   "name": "python3"
  },
  "language_info": {
   "codemirror_mode": {
    "name": "ipython",
    "version": 3
   },
   "file_extension": ".py",
   "mimetype": "text/x-python",
   "name": "python",
   "nbconvert_exporter": "python",
   "pygments_lexer": "ipython3",
   "version": "3.11.2"
  }
 },
 "nbformat": 4,
 "nbformat_minor": 5
}
