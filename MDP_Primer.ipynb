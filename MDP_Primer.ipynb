{
 "cells": [
  {
   "cell_type": "code",
   "execution_count": 1,
   "id": "d9483574-a73e-4d5f-be07-ce7336e48552",
   "metadata": {},
   "outputs": [
    {
     "name": "stdout",
     "output_type": "stream",
     "text": [
      "Epoha: 0, Ukupna Nagrada: -28\n",
      "Epoha: 10, Ukupna Nagrada: 0\n",
      "Epoha: 20, Ukupna Nagrada: 14\n",
      "Epoha: 30, Ukupna Nagrada: 4\n",
      "Epoha: 40, Ukupna Nagrada: 6\n",
      "Epoha: 50, Ukupna Nagrada: -2\n",
      "Epoha: 60, Ukupna Nagrada: 8\n",
      "Epoha: 70, Ukupna Nagrada: 10\n",
      "Epoha: 80, Ukupna Nagrada: 0\n",
      "Epoha: 90, Ukupna Nagrada: 4\n"
     ]
    },
    {
     "data": {
      "image/png": "[encoded data removed]",
      "text/plain": [
       "<Figure size 640x480 with 2 Axes>"
      ]
     },
     "metadata": {},
     "output_type": "display_data"
    }
   ],
   "source": [
    "#Ovaj kod implementira osnovni Q-learning algoritam na jednostavnom primeru Markovljevog procesa odlučivanja (MDP). Evo detaljnijeg objašnjenja:\n",
    "\n",
    "#Inicijalizacija: Prvo, inicijalizujemo broj klasa odeće (u ovom slučaju, pretpostavljamo 3 klase) i broj mogućih stanja (u ovom slučaju, 10 stanja). Takođe, generišemo slučajne podatke za stanja i stvarne klase.\n",
    "\n",
    "#Q-vrednosti: Kreiramo matricu Q-vrednosti (Q_vrednosti) koja će se koristiti za praćenje vrednosti akcija u svakom stanju. Na početku, sve Q-vrednosti se postavljaju na nulu.\n",
    "\n",
    "#Parametri učenja: Postavljamo parametre učenja, uključujući stopu učenja (alfa), faktor diskonta (gama) i verovatnoću epsilon-pohlepne politike (epsilon).\n",
    "\n",
    "#Izbor akcije: Definišemo funkciju izaberi_akciju koja bira akciju za dato stanje na osnovu Q-vrednosti. Koristimo epsilon-pohlepnu politiku, gde s verovatnoćom epsilon biramo nasumičnu akciju (istraživanje), a sa (1 - epsilon) biramo akciju sa najvećom Q-vrednošću (pohlepa).\n",
    "\n",
    "#Simulacija učenja: Implementiramo glavnu petlju za simulaciju učenja. Kroz svaku epohu, prolazimo kroz sve podatke o stanjima i stvarnim klasama. Za svako stanje, biramo akciju, simuliramo prelazak u novo stanje (u stvarnom svetu, ovaj korak bi zavisio od stvarnih akcija), proračunavamo nagradu (u stvarnom svetu, ova vrednost bi zavisila od tačnosti predikcije), ažuriramo Q-vrednosti prema Q-learning formuli.\n",
    "\n",
    "#Prikaz Q-vrednosti: Na kraju, prikazujemo Q-vrednosti u obliku matrice koristeći matplotlib.\n",
    "\n",
    "#Napomena: Ovaj primer je pojednostavljen i koristi se za ilustraciju osnovnih principa Q-learninga i MDP-a. U stvarnim aplikacijama, stanja, akcije i nagrade bi bili složeniji i određeni stvarnim podacima. Takođe, Q-learning bi se primenjivao na stvarne probleme mašinskog učenja kako bi model naučio optimalne akcije u određenim stanjima.\n",
    "\n",
    "import numpy as np\n",
    "import matplotlib.pyplot as plt\n",
    "\n",
    "# Pretpostavljamo da imamo 3 klase odeće (0, 1, 2) i 10 mogućih stanja\n",
    "broj_klasa = 3\n",
    "broj_stanja = 10\n",
    "\n",
    "# Generišemo slučajna stanja i klase\n",
    "stanja = np.random.randint(0, broj_stanja, size=100)\n",
    "istine_klase = np.random.randint(0, broj_klasa, size=100)\n",
    "\n",
    "# Inicijalizujemo Q-vrednosti za svako stanje i akciju\n",
    "Q_vrednosti = np.zeros((broj_stanja, broj_klasa))\n",
    "\n",
    "# Parametri učenja\n",
    "alfa = 0.1\n",
    "gama = 0.9\n",
    "epsilon = 0.1\n",
    "\n",
    "# Funkcija za izbor akcije na osnovu Q-vrednosti (epsilon-pohlepna politika)\n",
    "def izaberi_akciju(Q_vrednosti, stanje):\n",
    "    if np.random.uniform(0, 1) < epsilon:\n",
    "        # Slučajan izbor akcije (istraživanje)\n",
    "        return np.random.choice(broj_klasa)\n",
    "    else:\n",
    "        # Izbor najbolje akcije na osnovu Q-vrednosti (pohlepa)\n",
    "        return np.argmax(Q_vrednosti[stanje, :])\n",
    "\n",
    "# Simulacija učenja\n",
    "broj_epoha = 100\n",
    "for epoha in range(broj_epoha):\n",
    "    ukupna_nagrada = 0\n",
    "\n",
    "    for i in range(len(stanja)):\n",
    "        trenutno_stanje = stanja[i]\n",
    "        stvarna_klasa = istine_klase[i]\n",
    "\n",
    "        # Izbor akcije\n",
    "        izabrana_klasa = izaberi_akciju(Q_vrednosti, trenutno_stanje)\n",
    "\n",
    "        # Simulacija prelaska u novo stanje (u stvarnom svetu to bi zavisilo od stvarnih akcija)\n",
    "        novo_stanje = np.random.randint(0, broj_stanja)\n",
    "\n",
    "        # Proračunavanje nagrade (u stvarnom svetu ovo bi bilo na osnovu tačnosti predikcije)\n",
    "        nagrada = 1 if izabrana_klasa == stvarna_klasa else -1\n",
    "\n",
    "        # Ažuriranje Q-vrednosti prema Q-learning formuli\n",
    "        Q_vrednosti[trenutno_stanje, izabrana_klasa] += alfa * (nagrada + gama * np.max(Q_vrednosti[novo_stanje, :]) - Q_vrednosti[trenutno_stanje, izabrana_klasa])\n",
    "\n",
    "        ukupna_nagrada += nagrada\n",
    "\n",
    "    if epoha % 10 == 0:\n",
    "        print(f\"Epoha: {epoha}, Ukupna Nagrada: {ukupna_nagrada}\")\n",
    "\n",
    "# Prikaz Q-vrednosti\n",
    "plt.imshow(Q_vrednosti, cmap='viridis')\n",
    "plt.colorbar()\n",
    "plt.xlabel(\"Akcije\")\n",
    "plt.ylabel(\"Stanja\")\n",
    "plt.title(\"Q-vrednosti\")\n",
    "plt.show()\n"
   ]
  },
  {
   "cell_type": "code",
   "execution_count": null,
   "id": "22dd3150-5071-47f9-9f2e-f0b97da8e75a",
   "metadata": {},
   "outputs": [],
   "source": []
  }
 ],
 "metadata": {
  "kernelspec": {
   "display_name": "Python 3 (ipykernel)",
   "language": "python",
   "name": "python3"
  },
  "language_info": {
   "codemirror_mode": {
    "name": "ipython",
    "version": 3
   },
   "file_extension": ".py",
   "mimetype": "text/x-python",
   "name": "python",
   "nbconvert_exporter": "python",
   "pygments_lexer": "ipython3",
   "version": "3.11.2"
  }
 },
 "nbformat": 4,
 "nbformat_minor": 5
}
