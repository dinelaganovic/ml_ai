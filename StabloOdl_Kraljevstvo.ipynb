{
 "cells": [
  {
   "cell_type": "code",
   "execution_count": 1,
   "id": "2213bc29-ce7a-4c25-b6bd-f6556b723e1f",
   "metadata": {},
   "outputs": [
    {
     "name": "stdout",
     "output_type": "stream",
     "text": [
      "Da li je osoba član kraljevske porodice? Odgovor: Ne\n"
     ]
    }
   ],
   "source": [
    "#testiraj razlicite podatke\n",
    "\n",
    "def je_clan_kraljevske_porodice(nosi_sesir, posetila_vimbldon, prestolonaslednik):\n",
    "    if nosi_sesir:\n",
    "        if posetila_vimbldon:\n",
    "            return \"Da\"\n",
    "        else:\n",
    "            return \"Ne\"\n",
    "    else:\n",
    "        if prestolonaslednik:\n",
    "            return \"Da\"\n",
    "        else:\n",
    "            return \"Ne\"\n",
    "\n",
    "# Primer poziva funkcije sa datim podacima\n",
    "rezultat = je_clan_kraljevske_porodice(False, True, False)\n",
    "print(\"Da li je osoba član kraljevske porodice? Odgovor:\", rezultat)\n"
   ]
  },
  {
   "cell_type": "code",
   "execution_count": null,
   "id": "fe7ecf3e-a4b8-41ad-83f1-761c4ac42e51",
   "metadata": {},
   "outputs": [],
   "source": []
  }
 ],
 "metadata": {
  "kernelspec": {
   "display_name": "Python 3 (ipykernel)",
   "language": "python",
   "name": "python3"
  },
  "language_info": {
   "codemirror_mode": {
    "name": "ipython",
    "version": 3
   },
   "file_extension": ".py",
   "mimetype": "text/x-python",
   "name": "python",
   "nbconvert_exporter": "python",
   "pygments_lexer": "ipython3",
   "version": "3.11.2"
  }
 },
 "nbformat": 4,
 "nbformat_minor": 5
}
