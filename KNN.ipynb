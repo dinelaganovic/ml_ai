{
 "cells": [
  {
   "cell_type": "code",
   "execution_count": 1,
   "id": "876f8b81-6240-4677-893c-2958d9b3471f",
   "metadata": {},
   "outputs": [
    {
     "name": "stdout",
     "output_type": "stream",
     "text": [
      "[[5 4 0]\n",
      " [8 4 1]\n",
      " [1 3 0]]\n",
      "Novi element pripada klasi: 0\n"
     ]
    },
    {
     "data": {
      "image/png": "[encoded data removed]",
      "text/plain": [
       "<Figure size 640x480 with 1 Axes>"
      ]
     },
     "metadata": {},
     "output_type": "display_data"
    }
   ],
   "source": [
    "from math import sqrt\n",
    "import numpy as np\n",
    "import matplotlib.pyplot as plt\n",
    "\n",
    "#0-False,1-True\n",
    "dataset = [\n",
    "    [7,2,0],\n",
    "    [5,4,0],\n",
    "    [3,2,1],\n",
    "    [8,4,1],\n",
    "    [8,3,1],\n",
    "    [1,3,0]\n",
    "]\n",
    "new_data = [4,9]\n",
    "\n",
    "def Euclidean_distance(first,second):\n",
    "      return sqrt(((first[0] - second[0]) ** 2) + ((first[1] - second[1])**  2))\n",
    "\n",
    "def Get_Neighbors(dataset, new_data, k):\n",
    "    distance = list() # []\n",
    "    data = []\n",
    "    for i in dataset:\n",
    "        dist = Euclidean_distance(new_data, i)\n",
    "        distance.append(dist)\n",
    "        data.append(i)\n",
    "    distance = np.array(distance)\n",
    "    data = np.array(data)\n",
    "    index_dist = distance.argsort()\n",
    "    data = data[index_dist]\n",
    "    neighbors = data[:k]\n",
    "    return neighbors\n",
    "def predict_classification(dataset, new_data, k):\n",
    "    Neighbors = Get_Neighbors(dataset, new_data, k)\n",
    "    Classes = []\n",
    "    for i in Neighbors:\n",
    "        Classes.append(i[-1])\n",
    "    prediction = max(Classes, key= Classes.count)\n",
    "    return prediction\n",
    "\n",
    "print(Get_Neighbors(dataset,new_data,3))\n",
    "neighbour = Get_Neighbors(dataset, new_data, 3)\n",
    "\n",
    "prediction = predict_classification(dataset, new_data, 3)\n",
    "print('Novi element pripada klasi:',prediction)\n",
    "\n",
    "colors = ['red']+['green']+['red']+['blue']\n",
    "\n",
    "#print([col[1] for col in neighbour])\n",
    "plt.scatter([col[1] for col in neighbour]+[new_data[1]],[col[0] for col in neighbour]+[new_data[0]],c=colors)\n",
    "plt.text(x=new_data[0]+3.4,y=new_data[1]-4.7,s=f\" new_data : class {prediction}\")\n",
    "plt.xlabel('P2',fontsize = 20)\n",
    "plt.ylabel('P1',fontsize = 20)\n",
    "plt.show()"
   ]
  },
  {
   "cell_type": "code",
   "execution_count": null,
   "id": "8427bcbc-6c1d-4dd3-bcee-856080d587ff",
   "metadata": {},
   "outputs": [],
   "source": []
  }
 ],
 "metadata": {
  "kernelspec": {
   "display_name": "Python 3 (ipykernel)",
   "language": "python",
   "name": "python3"
  },
  "language_info": {
   "codemirror_mode": {
    "name": "ipython",
    "version": 3
   },
   "file_extension": ".py",
   "mimetype": "text/x-python",
   "name": "python",
   "nbconvert_exporter": "python",
   "pygments_lexer": "ipython3",
   "version": "3.11.2"
  }
 },
 "nbformat": 4,
 "nbformat_minor": 5
}
