{
 "cells": [
  {
   "cell_type": "code",
   "execution_count": 31,
   "id": "0067f90a-446d-4077-ad76-223853c39e55",
   "metadata": {},
   "outputs": [
    {
     "name": "stdout",
     "output_type": "stream",
     "text": [
      "    flour  eggs   sugar   milk  butter  baking_powder     type\n",
      "0  181.33     1  1200.0  270.0  283.75           5.62  cupcake\n",
      "1  136.00     2  1000.0   80.0  113.50           1.87  cupcake\n",
      "2  136.00     3   775.0   30.0  283.75           7.50  cupcake\n",
      "3  204.00     2  1000.0  120.0  340.50           6.56  cupcake\n",
      "4  181.33     2   825.0   45.0  227.00           0.94  cupcake\n"
     ]
    }
   ],
   "source": [
    "import pandas as pd\n",
    "import matplotlib.pyplot as plt\n",
    "import numpy as np\n",
    "from math import sqrt\n",
    "\n",
    "data = pd.read_csv('datasets/lamiija_cnn_lg.csv')\n",
    "# Prikaz prvih nekoliko redova skupa podataka\n",
    "print(data.head())\n"
   ]
  },
  {
   "cell_type": "code",
   "execution_count": 32,
   "id": "3210d218-2a5c-4749-83d3-1188c159c1d1",
   "metadata": {},
   "outputs": [
    {
     "name": "stdout",
     "output_type": "stream",
     "text": [
      "['flour' 'eggs' 'sugar' 'milk' 'butter' 'baking_powder' 'type']\n"
     ]
    }
   ],
   "source": [
    "#Labele kolona \n",
    "print(data.columns.values)\n"
   ]
  },
  {
   "cell_type": "code",
   "execution_count": 33,
   "id": "fc8a3166-f607-4f81-8628-ccbc4b516a3e",
   "metadata": {},
   "outputs": [
    {
     "name": "stdout",
     "output_type": "stream",
     "text": [
      "flour            float64\n",
      "eggs               int64\n",
      "sugar            float64\n",
      "milk             float64\n",
      "butter           float64\n",
      "baking_powder    float64\n",
      "type              object\n",
      "dtype: object\n"
     ]
    }
   ],
   "source": [
    "#Tipovi podataka \n",
    "print(data.dtypes)"
   ]
  },
  {
   "cell_type": "code",
   "execution_count": 34,
   "id": "80b8bcf5-9911-49c7-9548-9d6aeb297cdb",
   "metadata": {},
   "outputs": [
    {
     "name": "stdout",
     "output_type": "stream",
     "text": [
      "[[181.33 1 1200.0 270.0 283.75 5.62 'cupcake']\n",
      " [136.0 2 1000.0 80.0 113.5 1.87 'cupcake']\n",
      " [136.0 3 775.0 30.0 283.75 7.5 'cupcake']\n",
      " [204.0 2 1000.0 120.0 340.5 6.56 'cupcake']\n",
      " [181.33 2 825.0 45.0 227.0 0.94 'cupcake']\n",
      " [110.5 2 333.33 120.0 170.25 1.87 'cupcake']\n",
      " [110.5 2 333.33 120.0 170.25 1.87 'cupcake']\n",
      " [238.0 1 900.0 180.0 170.25 5.62 'cupcake']\n",
      " [272.0 2 1000.0 240.0 56.75 7.5 'cupcake']\n",
      " [272.0 3 1000.0 150.0 113.5 5.62 'cupcake']\n",
      " [204.0 2 800.0 15.0 113.5 7.5 'cupcake']\n",
      " [340.0 2 1150.0 160.0 198.63 3.75 'cupcake']\n",
      " [306.0 2 866.67 180.0 170.25 11.25 'cupcake']\n",
      " [272.0 4 850.0 60.0 170.25 7.5 'cupcake']\n",
      " [153.0 1 225.0 240.0 113.5 3.75 'cupcake']\n",
      " [238.0 4 300.0 420.0 170.25 3.75 'cupcake']\n",
      " [238.0 3 550.0 60.0 264.83 7.5 'cupcake']\n",
      " [340.0 3 700.0 240.0 283.75 11.25 'cupcake']\n",
      " [170.0 4 200.0 180.0 227.0 3.75 'cupcake']]\n"
     ]
    }
   ],
   "source": [
    "#sve vrednosti u data\n",
    "print(data.values)"
   ]
  },
  {
   "cell_type": "code",
   "execution_count": 35,
   "id": "5f7dab36-4553-46f5-9675-23311793bbf7",
   "metadata": {},
   "outputs": [
    {
     "name": "stdout",
     "output_type": "stream",
     "text": [
      "133\n"
     ]
    }
   ],
   "source": [
    "#Broj elemenata DataFrame-a\n",
    "print(data.size) "
   ]
  },
  {
   "cell_type": "code",
   "execution_count": 36,
   "id": "7ba62db3-5f64-4b20-916b-9fd1dee1f26f",
   "metadata": {},
   "outputs": [
    {
     "name": "stdout",
     "output_type": "stream",
     "text": [
      "     flour  eggs    sugar   milk  butter  baking_powder     type\n",
      "0   181.33   1.0  1200.00  270.0    True           5.62  cupcake\n",
      "1   136.00   2.0  1000.00   80.0    True           1.87  cupcake\n",
      "2   136.00   3.0   775.00   30.0    True           7.50  cupcake\n",
      "3   204.00   2.0  1000.00  120.0    True           6.56  cupcake\n",
      "4   181.33   2.0   825.00   45.0    True           0.94  cupcake\n",
      "5   110.50   2.0   333.33  120.0    True           1.87  cupcake\n",
      "6   110.50   2.0   333.33  120.0    True           1.87  cupcake\n",
      "7   238.00   1.0   900.00  180.0    True           5.62  cupcake\n",
      "8   272.00   2.0  1000.00  240.0    True           7.50  cupcake\n",
      "9   272.00   3.0  1000.00  150.0    True           5.62  cupcake\n",
      "10  204.00   2.0   800.00   15.0    True           7.50  cupcake\n",
      "11  340.00   2.0  1150.00  160.0    True           3.75  cupcake\n",
      "12  306.00   2.0   866.67  180.0    True          11.25  cupcake\n",
      "13  272.00   4.0   850.00   60.0    True           7.50  cupcake\n",
      "14  153.00   1.0   225.00  240.0    True           3.75  cupcake\n",
      "15  238.00   4.0   300.00  420.0    True           3.75  cupcake\n",
      "16  238.00   3.0   550.00   60.0    True           7.50  cupcake\n",
      "17  340.00   3.0   700.00  240.0    True          11.25  cupcake\n",
      "18  170.00   4.0   200.00  180.0    True           3.75  cupcake\n"
     ]
    }
   ],
   "source": [
    "#Konverzija određenih kolona u zadate tipove\n",
    "df = data.astype({'eggs': float, 'butter': bool})\n",
    "print(df)"
   ]
  },
  {
   "cell_type": "code",
   "execution_count": 37,
   "id": "8b7edc48-ba44-4c4d-b99f-646ed5da1050",
   "metadata": {},
   "outputs": [],
   "source": [
    "#Kreiranje DataFrame-a\n",
    "df = pd.DataFrame(\n",
    "data=[[1, 2], [3, 4], [5, 6]], \n",
    "index=[0, 1, 2], \n",
    "columns=['a', 'b'])\n"
   ]
  },
  {
   "cell_type": "code",
   "execution_count": 38,
   "id": "447c9b8e-5eb5-4c33-9750-e041702ac4c2",
   "metadata": {},
   "outputs": [
    {
     "name": "stdout",
     "output_type": "stream",
     "text": [
      "   a  b\n",
      "0  1  2\n",
      "1  3  4\n",
      "2  5  6\n",
      "   a  b\n",
      "0  1  2\n"
     ]
    }
   ],
   "source": [
    "print(df.head())\n",
    "print(df.head(1))#prvi red\n"
   ]
  },
  {
   "cell_type": "code",
   "execution_count": 51,
   "id": "6b9f06d3-be9c-4df9-9950-4fe3ebe309df",
   "metadata": {},
   "outputs": [
    {
     "name": "stdout",
     "output_type": "stream",
     "text": [
      "Columns: Index(['flour', 'eggs', 'Nova kolona', 'sugar', 'milk', 'butter',\n",
      "       'baking_powder', 'type'],\n",
      "      dtype='object')\n"
     ]
    }
   ],
   "source": [
    "nova_kolona = np.tile([1, 2], len(data)//2 + 1)[:len(data)]  # Adjusted length\n",
    "# Insert the 'Nova kolona' na trecem mestu \n",
    "data.insert(2, 'Nova kolona', nova_kolona) \n",
    "# Print  imena kolona\n",
    "print(\"Columns:\", data.columns)\n",
    "data.to_csv('datasets/lamiija_cnn_lg.csv', index=False)\n"
   ]
  },
  {
   "cell_type": "code",
   "execution_count": 40,
   "id": "49642823-3236-40b1-bf51-83304c38a281",
   "metadata": {},
   "outputs": [
    {
     "name": "stdout",
     "output_type": "stream",
     "text": [
      "    flour  eggs  Nova kolona   sugar   milk  butter  baking_powder     type\n",
      "0  181.33     1            1  1200.0  270.0  283.75           5.62  cupcake\n",
      "1  136.00     2            2  1000.0   80.0  113.50           1.87  cupcake\n",
      "2  136.00     3            1   775.0   30.0  283.75           7.50  cupcake\n",
      "3  204.00     2            2  1000.0  120.0  340.50           6.56  cupcake\n",
      "4  181.33     2            1   825.0   45.0  227.00           0.94  cupcake\n"
     ]
    }
   ],
   "source": [
    "print(data.head())"
   ]
  },
  {
   "cell_type": "code",
   "execution_count": 53,
   "id": "7f208f9f-8687-4319-a0fa-80eba7cfcec2",
   "metadata": {},
   "outputs": [],
   "source": [
    "# Brisanje kolone \n",
    "ime_kolone1 = 'Nova kolona'\n",
    "if ime_kolone1 in data.columns:\n",
    "    data = data.drop(ime_kolone1, axis=1)\n",
    "data.to_csv('datasets/lamiija_cnn_lg.csv', index=False)\n"
   ]
  },
  {
   "cell_type": "code",
   "execution_count": 44,
   "id": "1e69b968-8cd2-4571-aa02-1671aaa3b5a7",
   "metadata": {},
   "outputs": [
    {
     "name": "stdout",
     "output_type": "stream",
     "text": [
      "    flour  eggs   sugar   milk  butter  baking_powder     type\n",
      "0  181.33     1  1200.0  270.0  283.75           5.62  cupcake\n",
      "1  136.00     2  1000.0   80.0  113.50           1.87  cupcake\n",
      "2  209.00     3  1200.0  209.0  283.75           6.56  cupcake\n",
      "3  136.00     3   775.0   30.0  283.75           7.50  cupcake\n",
      "4  204.00     2  1000.0  120.0  340.50           6.56  cupcake\n"
     ]
    }
   ],
   "source": [
    "#dodavanje reda na poziciju 2\n",
    "new_row = {'flour': 209.00, 'eggs': 3, 'sugar': 1200.0, 'milk': 209.00, 'butter': 283.75, 'baking_powder': 6.56, 'type': 'cupcake'}\n",
    "data = pd.concat([data.loc[:1], pd.DataFrame(new_row, index=[2]), data.loc[2:]]).reset_index(drop=True)\n",
    "print(data.head())"
   ]
  },
  {
   "cell_type": "code",
   "execution_count": 47,
   "id": "6a3af3ce-1fb2-4ce1-81a6-ed42560306db",
   "metadata": {},
   "outputs": [
    {
     "name": "stdout",
     "output_type": "stream",
     "text": [
      "[[181.33 1 1200.0 270.0 283.75 5.62 'cupcake']\n",
      " [136.0 2 1000.0 80.0 113.5 1.87 'cupcake']\n",
      " [209.0 3 1200.0 209.0 283.75 6.56 'cupcake']\n",
      " [136.0 3 775.0 30.0 283.75 7.5 'cupcake']\n",
      " [204.0 2 1000.0 120.0 340.5 6.56 'cupcake']\n",
      " [181.33 2 825.0 45.0 227.0 0.94 'cupcake']\n",
      " [110.5 2 333.33 120.0 170.25 1.87 'cupcake']\n",
      " [110.5 2 333.33 120.0 170.25 1.87 'cupcake']\n",
      " [238.0 1 900.0 180.0 170.25 5.62 'cupcake']\n",
      " [272.0 2 1000.0 240.0 56.75 7.5 'cupcake']\n",
      " [272.0 3 1000.0 150.0 113.5 5.62 'cupcake']\n",
      " [204.0 2 800.0 15.0 113.5 7.5 'cupcake']\n",
      " [340.0 2 1150.0 160.0 198.63 3.75 'cupcake']\n",
      " [306.0 2 866.67 180.0 170.25 11.25 'cupcake']\n",
      " [272.0 4 850.0 60.0 170.25 7.5 'cupcake']\n",
      " [153.0 1 225.0 240.0 113.5 3.75 'cupcake']\n",
      " [238.0 4 300.0 420.0 170.25 3.75 'cupcake']\n",
      " [238.0 3 550.0 60.0 264.83 7.5 'cupcake']\n",
      " [340.0 3 700.0 240.0 283.75 11.25 'cupcake']\n",
      " [170.0 4 200.0 180.0 227.0 3.75 'cupcake']\n",
      " [209.0 3 1200.0 209.0 283.75 6.56 'cupcake']\n",
      " [309.0 3 1200.0 209.0 283.75 6.56 'cupcake']]\n"
     ]
    }
   ],
   "source": [
    "#dodavanje reda na kraj\n",
    "new_row = {'flour': 309.00, 'eggs': 3, 'sugar': 1200.0, 'milk': 209.00, 'butter': 283.75, 'baking_powder': 6.56, 'type': 'cupcake'}\n",
    "data = pd.concat([data, pd.DataFrame(new_row, index=[0])], ignore_index=True)\n",
    "print(data.values)"
   ]
  },
  {
   "cell_type": "code",
   "execution_count": null,
   "id": "26fc4b62-d7b5-4504-82cf-7cb0cb8d9bd4",
   "metadata": {},
   "outputs": [],
   "source": [
    "data = data.drop(2).reset_index(drop=True) #brisanje reda sa pozicije dva"
   ]
  },
  {
   "cell_type": "code",
   "execution_count": 50,
   "id": "d03a54b4-706d-496b-8404-2b4d1002ec81",
   "metadata": {},
   "outputs": [
    {
     "name": "stdout",
     "output_type": "stream",
     "text": [
      "   flour  eggs   sugar   milk  butter  baking_powder     type\n",
      "0  309.0     3  1200.0  209.0  283.75           6.56  cupcake\n",
      "1  136.0   309  1000.0   80.0  113.50           1.87  cupcake\n",
      "2  209.0     3  1200.0  209.0  283.75           6.56  cupcake\n",
      "3  136.0     3   775.0   30.0  283.75           7.50  cupcake\n",
      "4  204.0     2  1000.0  120.0  340.50           6.56  cupcake\n"
     ]
    }
   ],
   "source": [
    "#uređivanje vrednosti određenog reda i određene kolone\n",
    "new_value=[309.0]\n",
    "column_index=1\n",
    "row_index=1\n",
    "data.iloc[row_index, column_index] = new_value\n",
    "# Pretpostavimo da želite zamijeniti prvi red s novim redom\n",
    "new_row_values=[309.0,3,1200.0,209.0,283.75,6.56,'cupcake']\n",
    "data.iloc[0] = new_row_values\n",
    "print(data.head())"
   ]
  },
  {
   "cell_type": "code",
   "execution_count": null,
   "id": "7639dcde-1893-463c-89a6-0003850c6f82",
   "metadata": {},
   "outputs": [],
   "source": [
    "# Primjer: Postavljanje svih vrijednosti u stupcu 'Kolona' na novu_vrijednost\n",
    "data['Kolona'] = nova_vrijednost\n",
    "# Primjer: Ažuriranje vrijednosti u stupcu 'Kolona' gdje je vrijednost u stupcu 'Uvjet' jednaka nekoj_vrijednosti\n",
    "data.loc[data['Uvjet'] == neka_vrijednost, 'Kolona'] = nova_vrijednost"
   ]
  }
 ],
 "metadata": {
  "kernelspec": {
   "display_name": "Python 3 (ipykernel)",
   "language": "python",
   "name": "python3"
  },
  "language_info": {
   "codemirror_mode": {
    "name": "ipython",
    "version": 3
   },
   "file_extension": ".py",
   "mimetype": "text/x-python",
   "name": "python",
   "nbconvert_exporter": "python",
   "pygments_lexer": "ipython3",
   "version": "3.11.2"
  }
 },
 "nbformat": 4,
 "nbformat_minor": 5
}
